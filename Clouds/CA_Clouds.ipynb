{
 "cells": [
  {
   "cell_type": "markdown",
   "metadata": {},
   "source": [
    "# Implementation of a CA for generating realistic clouds\n",
    "Source\n",
    "Application of cellular automata approach for cloud simulation and rendering\n",
    "Chaos 24, 013125 (2014); https://doi.org/10.1063/1.4866854\n",
    "W. Christopher Immanuel and S. Paul Mary Deborrah and R. Samuel Selvaraj"
   ]
  },
  {
   "cell_type": "code",
   "execution_count": 1,
   "metadata": {},
   "outputs": [],
   "source": [
    "import torch\n",
    "from matplotlib import pyplot as plt\n",
    "from mpl_toolkits.mplot3d import Axes3D"
   ]
  },
  {
   "cell_type": "code",
   "execution_count": 2,
   "metadata": {},
   "outputs": [],
   "source": [
    "%matplotlib widget\n",
    "# Parameters\n",
    "# size\n",
    "width = 100\n",
    "depth = 100\n",
    "height = 100\n",
    "# init cloud position -> area between is initialised for cloud creation, the other cells for extincion\n",
    "# elliptic volume, defined by center and strech factor\n",
    "# width\n",
    "c_x = 50\n",
    "f_x = 10\n",
    "# depth\n",
    "c_y = 50\n",
    "f_y = 10\n",
    "# height\n",
    "c_z = 50\n",
    "f_z = 50\n",
    "\n",
    "radius = 1. # default distance for ellipsoid calculation\n",
    "overlap = 1. # overlapping of creation and extinction zone (x-c_x)**2/f_x + (y-c_y)**2/f_y + (z-c_z)**2/f_z <= radius + overlap\n",
    "\n",
    "# Probabilities for creating and extinction: int16 [0...10000] = 0.00% ... 100.00%\n",
    "P_hum0 = 100\n",
    "P_act0 = 1\n",
    "P_ext0 = 5000\n",
    "\n",
    "# iterations for CA simulation\n",
    "n_iteration = 40\n",
    "\n",
    "# init variable grid as tensors\n",
    "dev = torch.device(\"cuda\")\n",
    "\n",
    "hum = torch.zeros((width, depth, height), device=dev, dtype=torch.uint8) # humidity/vapor\n",
    "act = torch.zeros((width, depth, height), device=dev, dtype=torch.uint8) # activation/phase transition factor\n",
    "cld = torch.zeros((width, depth, height), device=dev, dtype=torch.uint8) # clouds\n",
    "f_act = torch.zeros_like(act) # activation factor -> helper variable for calculation\n",
    "hum_temp = torch.zeros_like(hum) # temporary tensor for humidity, since it is also used for act calculation"
   ]
  },
  {
   "cell_type": "code",
   "execution_count": 3,
   "metadata": {},
   "outputs": [],
   "source": [
    "# Variables for creation and extinction process\n",
    "# reserve memory for random number creation\n",
    "rnd_hum = torch.zeros_like(hum, dtype=torch.int16)\n",
    "rnd_act = torch.zeros_like(act, dtype=torch.int16)\n",
    "rnd_ext = torch.zeros_like(cld, dtype=torch.int16)\n",
    "\n",
    "# init probability areas for random variable changes\n",
    "P_hum = torch.zeros_like(hum, dtype=torch.int16)\n",
    "P_act = torch.zeros_like(act, dtype=torch.int16)\n",
    "P_ext = torch.zeros_like(cld, dtype=torch.int16)\n",
    "\n",
    "# get all coordinates\n",
    "x, y, z = torch.meshgrid([torch.arange(0,width), torch.arange(0,depth), torch.arange(0,height)])\n",
    "\n",
    "# create selection masks\n",
    "distance = (x-c_x)**2/f_x + (y-c_y)**2/f_y + (z-c_z)**2/f_z\n",
    "# inner\n",
    "sel_inner = distance <= radius + overlap\n",
    "# outer\n",
    "sel_outer = distance > radius - overlap\n",
    "\n",
    "P_hum = P_hum0 # humidity for complete volume\n",
    "P_act[sel_inner] = P_act0\n",
    "P_ext[sel_outer] = P_ext0\n"
   ]
  },
  {
   "cell_type": "code",
   "execution_count": 12,
   "metadata": {},
   "outputs": [
    {
     "data": {
      "application/vnd.jupyter.widget-view+json": {
       "model_id": "9dfec05a1cd94da9b1dbbc2a8c666cf6",
       "version_major": 2,
       "version_minor": 0
      },
      "text/plain": [
       "FigureCanvasNbAgg()"
      ]
     },
     "metadata": {},
     "output_type": "display_data"
    }
   ],
   "source": [
    "# prepare all cloud coordinates\n",
    "x = x.reshape(1, -1).squeeze()\n",
    "y = y.reshape(1, -1).squeeze()\n",
    "z = z.reshape(1, -1).squeeze()\n",
    "# prepare visualisation\n",
    "fig = plt.figure()\n",
    "ax3D = fig.add_subplot(111, projection='3d')"
   ]
  },
  {
   "cell_type": "code",
   "execution_count": 13,
   "metadata": {},
   "outputs": [],
   "source": [
    "for i in range(n_iteration):\n",
    "    # calculate new hum\n",
    "    hum_temp = hum & ~act\n",
    "    # calculate new cld\n",
    "    cld = cld | act\n",
    "    # calculate new activation factor\n",
    "    f_act = (\n",
    "             torch.cat((act[-2:,:,:], act[:-2,:,:]), dim=0) | torch.cat((act[-1:,:,:], act[:-1,:,:]), dim=0) | \n",
    "             torch.cat((act[1:,:,:], act[:1,:,:]), dim=0) | torch.cat((act[2:,:,:], act[:2,:,:]), dim=0) |\n",
    "             torch.cat((act[:,-2:,:], act[:,:-2,:]), dim=1) | torch.cat((act[:,-1:,:], act[:,:-1,:]), dim=1) | \n",
    "             torch.cat((act[:,1:,:], act[:,:1,:]), dim=1) |\n",
    "             torch.cat((act[:,:,-2:], act[:,:,:-2]), dim=2) | torch.cat((act[:,:,-1:], act[:,:,:-1]), dim=2) | \n",
    "             torch.cat((act[:,:,1:], act[:,:,:1]), dim=2) | torch.cat((act[:,:,2:], act[:,:,:2]), dim=2)\n",
    "            )\n",
    "    # calculate new act\n",
    "    act = ~act & hum & f_act\n",
    "    act2 = act\n",
    "    #-------------------------\n",
    "    # formation and extinction\n",
    "    #-------------------------\n",
    "    # update random values\n",
    "    rnd_hum.random_(0, 10001)\n",
    "    rnd_act.random_(0, 10001)\n",
    "    rnd_ext.random_(0, 10001)\n",
    "    # update cell states\n",
    "    hum = hum_temp | (rnd_hum < P_hum)\n",
    "    act = act | (rnd_act < P_act)\n",
    "    cld = cld & (rnd_ext > P_ext)\n",
    "\n",
    "    #--------------\n",
    "    # Visualisation\n",
    "    #--------------\n",
    "    # flatten cld and create selection of all ones\n",
    "    selection = cld.reshape(1, -1).squeeze() == 1\n",
    "\n",
    "    ax3D.clear()\n",
    "    ax3D.set_xlim(0,width)\n",
    "    ax3D.set_ylim(0,depth)\n",
    "    ax3D.set_zlim(0,height)\n",
    "    plt.axis('off')\n",
    "    ax3D.scatter(x[selection], y[selection], z[selection], s=1)\n",
    "    fig.canvas.draw()\n",
    "    fig.canvas.flush_events()\n",
    "    "
   ]
  },
  {
   "cell_type": "code",
   "execution_count": null,
   "metadata": {},
   "outputs": [],
   "source": []
  }
 ],
 "metadata": {
  "kernelspec": {
   "display_name": "Python 3",
   "language": "python",
   "name": "python3"
  },
  "language_info": {
   "codemirror_mode": {
    "name": "ipython",
    "version": 3
   },
   "file_extension": ".py",
   "mimetype": "text/x-python",
   "name": "python",
   "nbconvert_exporter": "python",
   "pygments_lexer": "ipython3",
   "version": "3.7.3"
  }
 },
 "nbformat": 4,
 "nbformat_minor": 2
}
